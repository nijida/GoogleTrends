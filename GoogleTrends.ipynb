{
 "cells": [
  {
   "cell_type": "code",
   "execution_count": 1,
   "metadata": {},
   "outputs": [],
   "source": [
    "# Load libraries\n",
    "from pytrends.request import TrendReq\n",
    "import matplotlib.pyplot as plt"
   ]
  },
  {
   "cell_type": "code",
   "execution_count": 2,
   "metadata": {},
   "outputs": [],
   "source": [
    "# Word 'โควิด', 'now 1-d' search\n",
    "pytrend=TrendReq()\n",
    "keywords = ['โควิด']\n",
    "pytrend.build_payload(keywords,geo='TH',timeframe='now 1-d') #News ==> cat=16 , special data = 'YYYY-MM-DD YYYY-MM-DD'"
   ]
  },
  {
   "cell_type": "code",
   "execution_count": 3,
   "metadata": {},
   "outputs": [],
   "source": [
    "# Keep the interest search over time within 1 day in df\n",
    "df = pytrend.interest_over_time()"
   ]
  },
  {
   "cell_type": "code",
   "execution_count": 4,
   "metadata": {},
   "outputs": [
    {
     "data": {
      "text/plain": [
       "date\n",
       "2020-06-22 08:08:00    75\n",
       "2020-06-22 08:16:00    70\n",
       "2020-06-22 08:24:00    74\n",
       "2020-06-22 08:32:00    75\n",
       "2020-06-22 08:40:00    72\n",
       "                       ..\n",
       "2020-06-23 07:28:00    67\n",
       "2020-06-23 07:36:00    66\n",
       "2020-06-23 07:44:00    65\n",
       "2020-06-23 07:52:00    72\n",
       "2020-06-23 08:00:00    73\n",
       "Name: โควิด, Length: 180, dtype: int32"
      ]
     },
     "execution_count": 4,
     "metadata": {},
     "output_type": "execute_result"
    }
   ],
   "source": [
    "df['โควิด']"
   ]
  },
  {
   "cell_type": "code",
   "execution_count": 5,
   "metadata": {},
   "outputs": [
    {
     "name": "stderr",
     "output_type": "stream",
     "text": [
      "findfont: Font family ['Tohoma'] not found. Falling back to DejaVu Sans.\n",
      "findfont: Font family ['Tohoma'] not found. Falling back to DejaVu Sans.\n"
     ]
    },
    {
     "data": {
      "image/png": "[encoded data removed]",
      "text/plain": [
       "<Figure size 432x288 with 1 Axes>"
      ]
     },
     "metadata": {
      "needs_background": "light"
     },
     "output_type": "display_data"
    }
   ],
   "source": [
    "# Visual trends\n",
    "plt.rcParams['font.family'] = 'Tohoma'\n",
    "plt.rcParams['font.size'] = 8\n",
    "plt.xlabel(\"Date\")\n",
    "plt.ylabel(\"Percent of Interest\")\n",
    "plt.title('Covid-19 on Google Trends')\n",
    "plt.plot(df[['โควิด']], linewidth=2)\n",
    "#plt.legend(df)\n",
    "plt.show()"
   ]
  },
  {
   "cell_type": "code",
   "execution_count": 6,
   "metadata": {},
   "outputs": [],
   "source": [
    "# Keep the interest search by region within 1 day in df_by_region\n",
    "df_by_region = pytrend.interest_by_region()"
   ]
  },
  {
   "cell_type": "code",
   "execution_count": 7,
   "metadata": {},
   "outputs": [
    {
     "data": {
      "text/html": [
       "<div>\n",
       "<style scoped>\n",
       "    .dataframe tbody tr th:only-of-type {\n",
       "        vertical-align: middle;\n",
       "    }\n",
       "\n",
       "    .dataframe tbody tr th {\n",
       "        vertical-align: top;\n",
       "    }\n",
       "\n",
       "    .dataframe thead th {\n",
       "        text-align: right;\n",
       "    }\n",
       "</style>\n",
       "<table border=\"1\" class=\"dataframe\">\n",
       "  <thead>\n",
       "    <tr style=\"text-align: right;\">\n",
       "      <th></th>\n",
       "      <th>โควิด</th>\n",
       "    </tr>\n",
       "    <tr>\n",
       "      <th>geoName</th>\n",
       "      <th></th>\n",
       "    </tr>\n",
       "  </thead>\n",
       "  <tbody>\n",
       "    <tr>\n",
       "      <th>Bangkok</th>\n",
       "      <td>100</td>\n",
       "    </tr>\n",
       "    <tr>\n",
       "      <th>Chon Buri</th>\n",
       "      <td>95</td>\n",
       "    </tr>\n",
       "    <tr>\n",
       "      <th>Nonthaburi</th>\n",
       "      <td>89</td>\n",
       "    </tr>\n",
       "    <tr>\n",
       "      <th>Samut Prakan</th>\n",
       "      <td>85</td>\n",
       "    </tr>\n",
       "    <tr>\n",
       "      <th>Amnat Charoen</th>\n",
       "      <td>0</td>\n",
       "    </tr>\n",
       "    <tr>\n",
       "      <th>...</th>\n",
       "      <td>...</td>\n",
       "    </tr>\n",
       "    <tr>\n",
       "      <th>Nakhon Pathom</th>\n",
       "      <td>0</td>\n",
       "    </tr>\n",
       "    <tr>\n",
       "      <th>Nakhon Nayok</th>\n",
       "      <td>0</td>\n",
       "    </tr>\n",
       "    <tr>\n",
       "      <th>Mukdahan</th>\n",
       "      <td>0</td>\n",
       "    </tr>\n",
       "    <tr>\n",
       "      <th>Maha Sarakham</th>\n",
       "      <td>0</td>\n",
       "    </tr>\n",
       "    <tr>\n",
       "      <th>Yasothon</th>\n",
       "      <td>0</td>\n",
       "    </tr>\n",
       "  </tbody>\n",
       "</table>\n",
       "<p>77 rows × 1 columns</p>\n",
       "</div>"
      ],
      "text/plain": [
       "               โควิด\n",
       "geoName             \n",
       "Bangkok          100\n",
       "Chon Buri         95\n",
       "Nonthaburi        89\n",
       "Samut Prakan      85\n",
       "Amnat Charoen      0\n",
       "...              ...\n",
       "Nakhon Pathom      0\n",
       "Nakhon Nayok       0\n",
       "Mukdahan           0\n",
       "Maha Sarakham      0\n",
       "Yasothon           0\n",
       "\n",
       "[77 rows x 1 columns]"
      ]
     },
     "execution_count": 7,
     "metadata": {},
     "output_type": "execute_result"
    }
   ],
   "source": [
    "df_by_region.sort_values(by=['โควิด'], ascending=False)"
   ]
  },
  {
   "cell_type": "code",
   "execution_count": 8,
   "metadata": {},
   "outputs": [],
   "source": [
    "# Keep key-value pairs of the related searches in related\n",
    "related = pytrend.related_queries()"
   ]
  },
  {
   "cell_type": "code",
   "execution_count": 9,
   "metadata": {},
   "outputs": [
    {
     "data": {
      "text/plain": [
       "{'โควิด': {'top':                        query  value\n",
       "  0                     โค วิด    100\n",
       "  1                  โค วิด 19     30\n",
       "  2             โค วิด วัน นี้     18\n",
       "  3           สถานการณ์ โค วิด     10\n",
       "  4               เชื้อ โค วิด     10\n",
       "  5                 โค วิด ไทย      9\n",
       "  6             ป้องกัน โค วิด      8\n",
       "  7              โค วิด ล่าสุด      7\n",
       "  8                 โค วิด โลก      7\n",
       "  9                 โรค โค วิด      6\n",
       "  10           โค วิด ทั่ว โลก      5\n",
       "  11            มาตรการ โค วิด      5\n",
       "  12              โค วิด อาการ      5\n",
       "  13               ข่าว โค วิด      5\n",
       "  14      ผู้ ติด เชื้อ โค วิด      4\n",
       "  15        ติด โค วิด วัน นี้      4\n",
       "  16                ยอด โค วิด      4\n",
       "  17  ติด เชื้อ โค วิด วัน นี้      3\n",
       "  18             โค วิด ใน ไทย      3\n",
       "  19             โรค โค วิด 19      3\n",
       "  20               ตรวจ โค วิด      2\n",
       "  21    มาตรการ ป้องกัน โค วิด      2\n",
       "  22         โค วิด 19 วัน นี้      2\n",
       "  23  สถานการณ์ โค วิด วัน นี้      2\n",
       "  24          โค วิด 19 ล่าสุด      2,\n",
       "  'rising':                                                 query  value\n",
       "  0   เชื้อ ไวรัส โค วิด 19 สามารถ ใน การ มี ชีวิต อ...  15900\n",
       "  1                                  เอทิลแอลกอฮอล์ คือ   7550\n",
       "  2                                             wwf คือ   6200\n",
       "  3                                      เมทิลแอลกอฮอล์   2300\n",
       "  4        เชื้อ โค วิด อยู่ บน พื้น ผิว ได้ นาน เท่าไร   2100\n",
       "  5                         เบน ซา โค เนี่ ยม คลอ ไร ด์   2000\n",
       "  6                          โซเดียม ไฮ เปอร์ คลอ ไร ด์   1250\n",
       "  7                           เบน ซา โค เนียม คลอ ไร ด์   1050\n",
       "  8                                      เอทิลแอลกอฮอล์   1000\n",
       "  9                    รีวิว บ้าน ตัว เอง ใน ยุค โค วิด    900\n",
       "  10                                        หน้ากาก n95    500\n",
       "  11                  เชื้อ โค วิด อยู่ ได้ นาน แค่ ไหน    500\n",
       "  12                                 ชุด ป้องกัน โค วิด    350\n",
       "  13                           ที่ มา ของ โรค โค วิด 19    300\n",
       "  14                                  แอลกอฮอล์ ล้างมือ    250\n",
       "  15                                          แอลกอฮอล์    250\n",
       "  16              ทํา ใบขับขี่ ออนไลน์ 2563 ช่วง โค วิด    200\n",
       "  17        แนวทาง การ จัดการ เรียน การ สอน ช่วง โค วิด    200\n",
       "  18  การ จัดการ เรียน การ สอน ทาง ไกล ใน สถานการณ์ ...    190\n",
       "  19                         ธ ก ส เยียวยา โค วิด 10000    170\n",
       "  20                                    รอย เท้า โค วิด    110\n",
       "  21                              เชื้อ ไวรัส โค วิด 19    100\n",
       "  22                                   เกาหลีใต้ โค วิด    100\n",
       "  23                           ประกัน สังคม ช่วย โค วิด     90\n",
       "  24             มาตรการ ป้องกัน โค วิด 19 ของ โรงเรียน     90}}"
      ]
     },
     "execution_count": 9,
     "metadata": {},
     "output_type": "execute_result"
    }
   ],
   "source": [
    "related"
   ]
  },
  {
   "cell_type": "code",
   "execution_count": 10,
   "metadata": {},
   "outputs": [
    {
     "data": {
      "text/plain": [
       "dict_keys(['โควิด'])"
      ]
     },
     "execution_count": 10,
     "metadata": {},
     "output_type": "execute_result"
    }
   ],
   "source": [
    "related.keys()"
   ]
  },
  {
   "cell_type": "code",
   "execution_count": 11,
   "metadata": {},
   "outputs": [
    {
     "data": {
      "text/html": [
       "<div>\n",
       "<style scoped>\n",
       "    .dataframe tbody tr th:only-of-type {\n",
       "        vertical-align: middle;\n",
       "    }\n",
       "\n",
       "    .dataframe tbody tr th {\n",
       "        vertical-align: top;\n",
       "    }\n",
       "\n",
       "    .dataframe thead th {\n",
       "        text-align: right;\n",
       "    }\n",
       "</style>\n",
       "<table border=\"1\" class=\"dataframe\">\n",
       "  <thead>\n",
       "    <tr style=\"text-align: right;\">\n",
       "      <th></th>\n",
       "      <th>query</th>\n",
       "      <th>value</th>\n",
       "    </tr>\n",
       "  </thead>\n",
       "  <tbody>\n",
       "    <tr>\n",
       "      <th>0</th>\n",
       "      <td>เชื้อ ไวรัส โค วิด 19 สามารถ ใน การ มี ชีวิต อ...</td>\n",
       "      <td>15900</td>\n",
       "    </tr>\n",
       "    <tr>\n",
       "      <th>1</th>\n",
       "      <td>เอทิลแอลกอฮอล์ คือ</td>\n",
       "      <td>7550</td>\n",
       "    </tr>\n",
       "    <tr>\n",
       "      <th>2</th>\n",
       "      <td>wwf คือ</td>\n",
       "      <td>6200</td>\n",
       "    </tr>\n",
       "    <tr>\n",
       "      <th>3</th>\n",
       "      <td>เมทิลแอลกอฮอล์</td>\n",
       "      <td>2300</td>\n",
       "    </tr>\n",
       "    <tr>\n",
       "      <th>4</th>\n",
       "      <td>เชื้อ โค วิด อยู่ บน พื้น ผิว ได้ นาน เท่าไร</td>\n",
       "      <td>2100</td>\n",
       "    </tr>\n",
       "    <tr>\n",
       "      <th>5</th>\n",
       "      <td>เบน ซา โค เนี่ ยม คลอ ไร ด์</td>\n",
       "      <td>2000</td>\n",
       "    </tr>\n",
       "    <tr>\n",
       "      <th>6</th>\n",
       "      <td>โซเดียม ไฮ เปอร์ คลอ ไร ด์</td>\n",
       "      <td>1250</td>\n",
       "    </tr>\n",
       "    <tr>\n",
       "      <th>7</th>\n",
       "      <td>เบน ซา โค เนียม คลอ ไร ด์</td>\n",
       "      <td>1050</td>\n",
       "    </tr>\n",
       "    <tr>\n",
       "      <th>8</th>\n",
       "      <td>เอทิลแอลกอฮอล์</td>\n",
       "      <td>1000</td>\n",
       "    </tr>\n",
       "    <tr>\n",
       "      <th>9</th>\n",
       "      <td>รีวิว บ้าน ตัว เอง ใน ยุค โค วิด</td>\n",
       "      <td>900</td>\n",
       "    </tr>\n",
       "    <tr>\n",
       "      <th>10</th>\n",
       "      <td>หน้ากาก n95</td>\n",
       "      <td>500</td>\n",
       "    </tr>\n",
       "    <tr>\n",
       "      <th>11</th>\n",
       "      <td>เชื้อ โค วิด อยู่ ได้ นาน แค่ ไหน</td>\n",
       "      <td>500</td>\n",
       "    </tr>\n",
       "    <tr>\n",
       "      <th>12</th>\n",
       "      <td>ชุด ป้องกัน โค วิด</td>\n",
       "      <td>350</td>\n",
       "    </tr>\n",
       "    <tr>\n",
       "      <th>13</th>\n",
       "      <td>ที่ มา ของ โรค โค วิด 19</td>\n",
       "      <td>300</td>\n",
       "    </tr>\n",
       "    <tr>\n",
       "      <th>14</th>\n",
       "      <td>แอลกอฮอล์ ล้างมือ</td>\n",
       "      <td>250</td>\n",
       "    </tr>\n",
       "    <tr>\n",
       "      <th>15</th>\n",
       "      <td>แอลกอฮอล์</td>\n",
       "      <td>250</td>\n",
       "    </tr>\n",
       "    <tr>\n",
       "      <th>16</th>\n",
       "      <td>ทํา ใบขับขี่ ออนไลน์ 2563 ช่วง โค วิด</td>\n",
       "      <td>200</td>\n",
       "    </tr>\n",
       "    <tr>\n",
       "      <th>17</th>\n",
       "      <td>แนวทาง การ จัดการ เรียน การ สอน ช่วง โค วิด</td>\n",
       "      <td>200</td>\n",
       "    </tr>\n",
       "    <tr>\n",
       "      <th>18</th>\n",
       "      <td>การ จัดการ เรียน การ สอน ทาง ไกล ใน สถานการณ์ ...</td>\n",
       "      <td>190</td>\n",
       "    </tr>\n",
       "    <tr>\n",
       "      <th>19</th>\n",
       "      <td>ธ ก ส เยียวยา โค วิด 10000</td>\n",
       "      <td>170</td>\n",
       "    </tr>\n",
       "    <tr>\n",
       "      <th>20</th>\n",
       "      <td>รอย เท้า โค วิด</td>\n",
       "      <td>110</td>\n",
       "    </tr>\n",
       "    <tr>\n",
       "      <th>21</th>\n",
       "      <td>เชื้อ ไวรัส โค วิด 19</td>\n",
       "      <td>100</td>\n",
       "    </tr>\n",
       "    <tr>\n",
       "      <th>22</th>\n",
       "      <td>เกาหลีใต้ โค วิด</td>\n",
       "      <td>100</td>\n",
       "    </tr>\n",
       "    <tr>\n",
       "      <th>23</th>\n",
       "      <td>ประกัน สังคม ช่วย โค วิด</td>\n",
       "      <td>90</td>\n",
       "    </tr>\n",
       "    <tr>\n",
       "      <th>24</th>\n",
       "      <td>มาตรการ ป้องกัน โค วิด 19 ของ โรงเรียน</td>\n",
       "      <td>90</td>\n",
       "    </tr>\n",
       "  </tbody>\n",
       "</table>\n",
       "</div>"
      ],
      "text/plain": [
       "                                                query  value\n",
       "0   เชื้อ ไวรัส โค วิด 19 สามารถ ใน การ มี ชีวิต อ...  15900\n",
       "1                                  เอทิลแอลกอฮอล์ คือ   7550\n",
       "2                                             wwf คือ   6200\n",
       "3                                      เมทิลแอลกอฮอล์   2300\n",
       "4        เชื้อ โค วิด อยู่ บน พื้น ผิว ได้ นาน เท่าไร   2100\n",
       "5                         เบน ซา โค เนี่ ยม คลอ ไร ด์   2000\n",
       "6                          โซเดียม ไฮ เปอร์ คลอ ไร ด์   1250\n",
       "7                           เบน ซา โค เนียม คลอ ไร ด์   1050\n",
       "8                                      เอทิลแอลกอฮอล์   1000\n",
       "9                    รีวิว บ้าน ตัว เอง ใน ยุค โค วิด    900\n",
       "10                                        หน้ากาก n95    500\n",
       "11                  เชื้อ โค วิด อยู่ ได้ นาน แค่ ไหน    500\n",
       "12                                 ชุด ป้องกัน โค วิด    350\n",
       "13                           ที่ มา ของ โรค โค วิด 19    300\n",
       "14                                  แอลกอฮอล์ ล้างมือ    250\n",
       "15                                          แอลกอฮอล์    250\n",
       "16              ทํา ใบขับขี่ ออนไลน์ 2563 ช่วง โค วิด    200\n",
       "17        แนวทาง การ จัดการ เรียน การ สอน ช่วง โค วิด    200\n",
       "18  การ จัดการ เรียน การ สอน ทาง ไกล ใน สถานการณ์ ...    190\n",
       "19                         ธ ก ส เยียวยา โค วิด 10000    170\n",
       "20                                    รอย เท้า โค วิด    110\n",
       "21                              เชื้อ ไวรัส โค วิด 19    100\n",
       "22                                   เกาหลีใต้ โค วิด    100\n",
       "23                           ประกัน สังคม ช่วย โค วิด     90\n",
       "24             มาตรการ ป้องกัน โค วิด 19 ของ โรงเรียน     90"
      ]
     },
     "execution_count": 11,
     "metadata": {},
     "output_type": "execute_result"
    }
   ],
   "source": [
    "# Show rinsing search from related\n",
    "related['โควิด']['rising']"
   ]
  },
  {
   "cell_type": "code",
   "execution_count": null,
   "metadata": {},
   "outputs": [],
   "source": []
  }
 ],
 "metadata": {
  "kernelspec": {
   "display_name": "Python 3",
   "language": "python",
   "name": "python3"
  },
  "language_info": {
   "codemirror_mode": {
    "name": "ipython",
    "version": 3
   },
   "file_extension": ".py",
   "mimetype": "text/x-python",
   "name": "python",
   "nbconvert_exporter": "python",
   "pygments_lexer": "ipython3",
   "version": "3.7.3"
  }
 },
 "nbformat": 4,
 "nbformat_minor": 2
}
